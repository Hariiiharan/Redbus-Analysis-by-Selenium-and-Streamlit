{
 "cells": [
  {
   "cell_type": "code",
   "execution_count": 58,
   "metadata": {},
   "outputs": [],
   "source": [
    "#importing libraries\n",
    "\n",
    "import pandas as pd\n",
    "import mysql.connector\n",
    "import numpy as np"
   ]
  },
  {
   "cell_type": "markdown",
   "metadata": {},
   "source": [
    " Converting all bus details csv  files into dataframe"
   ]
  },
  {
   "cell_type": "code",
   "execution_count": 59,
   "metadata": {},
   "outputs": [],
   "source": [
    "df_bus1=pd.read_csv(\"kerala_buses.csv\")\n",
    "df_bus2=pd.read_csv(\"tsrtc_buses.csv\")\n",
    "df_bus3=pd.read_csv(\"apsrtc_buses.csv\")\n",
    "df_bus4=pd.read_csv(\"rsrtc_buses.csv\")\n",
    "df_bus5=pd.read_csv(\"sbstc_buses.csv\")\n",
    "df_bus6=pd.read_csv(\"hrtc_buses.csv\")\n",
    "df_bus7=pd.read_csv(\"astc_buses.csv\")\n",
    "df_bus8=pd.read_csv(\"ctu_buses.csv\")\n",
    "df_bus9=pd.read_csv(\"pepsu_buses.csv\")\n",
    "df_bus10=pd.read_csv(\"bsrtc_buses.csv\")\n",
    "\n",
    "\n",
    "df_all_buses=pd.concat([df_bus1,df_bus2,df_bus3,df_bus4,df_bus5,df_bus6,df_bus7,df_bus8,df_bus9,df_bus10],ignore_index= True)"
   ]
  },
  {
   "cell_type": "code",
   "execution_count": 60,
   "metadata": {},
   "outputs": [
    {
     "data": {
      "text/html": [
       "<div>\n",
       "<style scoped>\n",
       "    .dataframe tbody tr th:only-of-type {\n",
       "        vertical-align: middle;\n",
       "    }\n",
       "\n",
       "    .dataframe tbody tr th {\n",
       "        vertical-align: top;\n",
       "    }\n",
       "\n",
       "    .dataframe thead th {\n",
       "        text-align: right;\n",
       "    }\n",
       "</style>\n",
       "<table border=\"1\" class=\"dataframe\">\n",
       "  <thead>\n",
       "    <tr style=\"text-align: right;\">\n",
       "      <th></th>\n",
       "      <th>bus_name</th>\n",
       "      <th>bus_type</th>\n",
       "      <th>departure_time</th>\n",
       "      <th>duration</th>\n",
       "      <th>reaching_time</th>\n",
       "      <th>star_rating</th>\n",
       "      <th>price</th>\n",
       "      <th>seat_availability</th>\n",
       "      <th>route_name</th>\n",
       "      <th>route_link</th>\n",
       "    </tr>\n",
       "  </thead>\n",
       "  <tbody>\n",
       "    <tr>\n",
       "      <th>0</th>\n",
       "      <td>KSRTC (Kerala) - 1029</td>\n",
       "      <td>Super Fast Non AC Seater (2+3)</td>\n",
       "      <td>00:00</td>\n",
       "      <td>05h 35m</td>\n",
       "      <td>05:35</td>\n",
       "      <td>3.0</td>\n",
       "      <td>INR 269</td>\n",
       "      <td>49 Seats available</td>\n",
       "      <td>Kozhikode to Ernakulam Bus</td>\n",
       "      <td>https://www.redbus.in/bus-tickets/kozhikode-to...</td>\n",
       "    </tr>\n",
       "    <tr>\n",
       "      <th>1</th>\n",
       "      <td>KSRTC (Kerala) - 2518</td>\n",
       "      <td>Swift Deluxe Non AC Air Bus (2+2)</td>\n",
       "      <td>00:11</td>\n",
       "      <td>04h 43m</td>\n",
       "      <td>04:54</td>\n",
       "      <td>3.0</td>\n",
       "      <td>INR 309</td>\n",
       "      <td>31 Seats available</td>\n",
       "      <td>Kozhikode to Ernakulam Bus</td>\n",
       "      <td>https://www.redbus.in/bus-tickets/kozhikode-to...</td>\n",
       "    </tr>\n",
       "    <tr>\n",
       "      <th>2</th>\n",
       "      <td>KSRTC (Kerala) - 2072</td>\n",
       "      <td>Super Express Non AC Seater Air Bus (2+2)</td>\n",
       "      <td>00:30</td>\n",
       "      <td>04h 20m</td>\n",
       "      <td>04:50</td>\n",
       "      <td>2.9\\n5</td>\n",
       "      <td>INR 268</td>\n",
       "      <td>22 Seats available</td>\n",
       "      <td>Kozhikode to Ernakulam Bus</td>\n",
       "      <td>https://www.redbus.in/bus-tickets/kozhikode-to...</td>\n",
       "    </tr>\n",
       "    <tr>\n",
       "      <th>3</th>\n",
       "      <td>KSRTC (Kerala) - 2368</td>\n",
       "      <td>Low Floor AC Seater 2+2</td>\n",
       "      <td>00:30</td>\n",
       "      <td>05h 19m</td>\n",
       "      <td>05:49</td>\n",
       "      <td>2.4\\n6</td>\n",
       "      <td>INR 383</td>\n",
       "      <td>15 Seats available</td>\n",
       "      <td>Kozhikode to Ernakulam Bus</td>\n",
       "      <td>https://www.redbus.in/bus-tickets/kozhikode-to...</td>\n",
       "    </tr>\n",
       "    <tr>\n",
       "      <th>4</th>\n",
       "      <td>KSRTC (Kerala) - 698</td>\n",
       "      <td>Super Fast Non AC Seater (2+3)</td>\n",
       "      <td>00:45</td>\n",
       "      <td>04h 54m</td>\n",
       "      <td>05:39</td>\n",
       "      <td>1.8\\n8</td>\n",
       "      <td>INR 230</td>\n",
       "      <td>44 Seats available</td>\n",
       "      <td>Kozhikode to Ernakulam Bus</td>\n",
       "      <td>https://www.redbus.in/bus-tickets/kozhikode-to...</td>\n",
       "    </tr>\n",
       "    <tr>\n",
       "      <th>...</th>\n",
       "      <td>...</td>\n",
       "      <td>...</td>\n",
       "      <td>...</td>\n",
       "      <td>...</td>\n",
       "      <td>...</td>\n",
       "      <td>...</td>\n",
       "      <td>...</td>\n",
       "      <td>...</td>\n",
       "      <td>...</td>\n",
       "      <td>...</td>\n",
       "    </tr>\n",
       "    <tr>\n",
       "      <th>17922</th>\n",
       "      <td>Bihar state road transport corporation (BSRTC)...</td>\n",
       "      <td>Volvo AC Seater 2+2</td>\n",
       "      <td>17:20</td>\n",
       "      <td>14h 40m</td>\n",
       "      <td>08:00</td>\n",
       "      <td>2.3\\n7</td>\n",
       "      <td>INR 1300</td>\n",
       "      <td>44 Seats available</td>\n",
       "      <td>Motihari to Agra Bus</td>\n",
       "      <td>https://www.redbus.in/bus-tickets/motihari-to-...</td>\n",
       "    </tr>\n",
       "    <tr>\n",
       "      <th>17923</th>\n",
       "      <td>Panwar Travels</td>\n",
       "      <td>A/C Sleeper (2+1)</td>\n",
       "      <td>15:40</td>\n",
       "      <td>14h 35m</td>\n",
       "      <td>06:15</td>\n",
       "      <td>2.8</td>\n",
       "      <td>INR 2500</td>\n",
       "      <td>26 Seats available</td>\n",
       "      <td>Motihari to Agra Bus</td>\n",
       "      <td>https://www.redbus.in/bus-tickets/motihari-to-...</td>\n",
       "    </tr>\n",
       "    <tr>\n",
       "      <th>17924</th>\n",
       "      <td>Baba Khatushyam Travels Pvt Ltd</td>\n",
       "      <td>A/C Seater / Sleeper (3+1)</td>\n",
       "      <td>17:35</td>\n",
       "      <td>13h 55m</td>\n",
       "      <td>07:30</td>\n",
       "      <td>1.7</td>\n",
       "      <td>INR 1199</td>\n",
       "      <td>57 Seats available</td>\n",
       "      <td>Motihari to Agra Bus</td>\n",
       "      <td>https://www.redbus.in/bus-tickets/motihari-to-...</td>\n",
       "    </tr>\n",
       "    <tr>\n",
       "      <th>17925</th>\n",
       "      <td>Travel Point World LLP</td>\n",
       "      <td>A/C Seater / Sleeper (2+2)</td>\n",
       "      <td>18:20</td>\n",
       "      <td>12h 30m</td>\n",
       "      <td>06:50</td>\n",
       "      <td>1.5</td>\n",
       "      <td>1899</td>\n",
       "      <td>38 Seats available</td>\n",
       "      <td>Motihari to Agra Bus</td>\n",
       "      <td>https://www.redbus.in/bus-tickets/motihari-to-...</td>\n",
       "    </tr>\n",
       "    <tr>\n",
       "      <th>17926</th>\n",
       "      <td>Shree Balajee Travels And Cargo</td>\n",
       "      <td>A/C Seater / Sleeper (2+1)</td>\n",
       "      <td>15:00</td>\n",
       "      <td>15h 43m</td>\n",
       "      <td>06:43</td>\n",
       "      <td>1.2</td>\n",
       "      <td>INR 1799</td>\n",
       "      <td>47 Seats available</td>\n",
       "      <td>Motihari to Agra Bus</td>\n",
       "      <td>https://www.redbus.in/bus-tickets/motihari-to-...</td>\n",
       "    </tr>\n",
       "  </tbody>\n",
       "</table>\n",
       "<p>17927 rows × 10 columns</p>\n",
       "</div>"
      ],
      "text/plain": [
       "                                                bus_name  \\\n",
       "0                                  KSRTC (Kerala) - 1029   \n",
       "1                                  KSRTC (Kerala) - 2518   \n",
       "2                                  KSRTC (Kerala) - 2072   \n",
       "3                                  KSRTC (Kerala) - 2368   \n",
       "4                                   KSRTC (Kerala) - 698   \n",
       "...                                                  ...   \n",
       "17922  Bihar state road transport corporation (BSRTC)...   \n",
       "17923                                     Panwar Travels   \n",
       "17924                    Baba Khatushyam Travels Pvt Ltd   \n",
       "17925                             Travel Point World LLP   \n",
       "17926                    Shree Balajee Travels And Cargo   \n",
       "\n",
       "                                        bus_type departure_time duration  \\\n",
       "0                 Super Fast Non AC Seater (2+3)          00:00  05h 35m   \n",
       "1              Swift Deluxe Non AC Air Bus (2+2)          00:11  04h 43m   \n",
       "2      Super Express Non AC Seater Air Bus (2+2)          00:30  04h 20m   \n",
       "3                        Low Floor AC Seater 2+2          00:30  05h 19m   \n",
       "4                 Super Fast Non AC Seater (2+3)          00:45  04h 54m   \n",
       "...                                          ...            ...      ...   \n",
       "17922                        Volvo AC Seater 2+2          17:20  14h 40m   \n",
       "17923                          A/C Sleeper (2+1)          15:40  14h 35m   \n",
       "17924                 A/C Seater / Sleeper (3+1)          17:35  13h 55m   \n",
       "17925                 A/C Seater / Sleeper (2+2)          18:20  12h 30m   \n",
       "17926                 A/C Seater / Sleeper (2+1)          15:00  15h 43m   \n",
       "\n",
       "      reaching_time star_rating     price   seat_availability  \\\n",
       "0             05:35         3.0   INR 269  49 Seats available   \n",
       "1             04:54         3.0   INR 309  31 Seats available   \n",
       "2             04:50      2.9\\n5   INR 268  22 Seats available   \n",
       "3             05:49      2.4\\n6   INR 383  15 Seats available   \n",
       "4             05:39      1.8\\n8   INR 230  44 Seats available   \n",
       "...             ...         ...       ...                 ...   \n",
       "17922         08:00      2.3\\n7  INR 1300  44 Seats available   \n",
       "17923         06:15         2.8  INR 2500  26 Seats available   \n",
       "17924         07:30         1.7  INR 1199  57 Seats available   \n",
       "17925         06:50         1.5      1899  38 Seats available   \n",
       "17926         06:43         1.2  INR 1799  47 Seats available   \n",
       "\n",
       "                       route_name  \\\n",
       "0      Kozhikode to Ernakulam Bus   \n",
       "1      Kozhikode to Ernakulam Bus   \n",
       "2      Kozhikode to Ernakulam Bus   \n",
       "3      Kozhikode to Ernakulam Bus   \n",
       "4      Kozhikode to Ernakulam Bus   \n",
       "...                           ...   \n",
       "17922        Motihari to Agra Bus   \n",
       "17923        Motihari to Agra Bus   \n",
       "17924        Motihari to Agra Bus   \n",
       "17925        Motihari to Agra Bus   \n",
       "17926        Motihari to Agra Bus   \n",
       "\n",
       "                                              route_link  \n",
       "0      https://www.redbus.in/bus-tickets/kozhikode-to...  \n",
       "1      https://www.redbus.in/bus-tickets/kozhikode-to...  \n",
       "2      https://www.redbus.in/bus-tickets/kozhikode-to...  \n",
       "3      https://www.redbus.in/bus-tickets/kozhikode-to...  \n",
       "4      https://www.redbus.in/bus-tickets/kozhikode-to...  \n",
       "...                                                  ...  \n",
       "17922  https://www.redbus.in/bus-tickets/motihari-to-...  \n",
       "17923  https://www.redbus.in/bus-tickets/motihari-to-...  \n",
       "17924  https://www.redbus.in/bus-tickets/motihari-to-...  \n",
       "17925  https://www.redbus.in/bus-tickets/motihari-to-...  \n",
       "17926  https://www.redbus.in/bus-tickets/motihari-to-...  \n",
       "\n",
       "[17927 rows x 10 columns]"
      ]
     },
     "execution_count": 60,
     "metadata": {},
     "output_type": "execute_result"
    }
   ],
   "source": [
    "df_all_buses"
   ]
  },
  {
   "cell_type": "markdown",
   "metadata": {},
   "source": [
    "Data cleaning"
   ]
  },
  {
   "cell_type": "code",
   "execution_count": 61,
   "metadata": {},
   "outputs": [
    {
     "name": "stdout",
     "output_type": "stream",
     "text": [
      "<class 'pandas.core.frame.DataFrame'>\n",
      "RangeIndex: 17927 entries, 0 to 17926\n",
      "Data columns (total 10 columns):\n",
      " #   Column             Non-Null Count  Dtype \n",
      "---  ------             --------------  ----- \n",
      " 0   bus_name           17927 non-null  object\n",
      " 1   bus_type           17927 non-null  object\n",
      " 2   departure_time     17927 non-null  object\n",
      " 3   duration           17927 non-null  object\n",
      " 4   reaching_time      17927 non-null  object\n",
      " 5   star_rating        17927 non-null  object\n",
      " 6   price              17927 non-null  object\n",
      " 7   seat_availability  17927 non-null  object\n",
      " 8   route_name         17927 non-null  object\n",
      " 9   route_link         17927 non-null  object\n",
      "dtypes: object(10)\n",
      "memory usage: 1.4+ MB\n"
     ]
    }
   ],
   "source": [
    "#info about the data\n",
    "\n",
    "df_all_buses.info()"
   ]
  },
  {
   "cell_type": "code",
   "execution_count": 62,
   "metadata": {},
   "outputs": [],
   "source": [
    "#convert prices to numeric\n",
    "\n",
    "\n",
    "df_all_buses[\"price\"]=df_all_buses[\"price\"].astype(str)\n",
    "\n",
    "df_all_buses[\"price\"]=df_all_buses[\"price\"].str.replace(\"INR \",\"\")\n",
    "\n",
    "\n",
    "df_all_buses[\"price\"]=df_all_buses[\"price\"].astype(float)\n",
    "\n",
    "\n"
   ]
  },
  {
   "cell_type": "code",
   "execution_count": 64,
   "metadata": {},
   "outputs": [],
   "source": [
    "#convert Ratings to numeric\n",
    "\n",
    "\n",
    "df_all_buses[\"star_rating\"]=df_all_buses[\"star_rating\"].astype(str)\n",
    "\n",
    "\n",
    "df_all_buses[\"star_rating\"]=df_all_buses[\"star_rating\"].str.split('\\n').str[0]\n",
    "\n",
    "#Ensure that the 'star rating' column is numeric\n",
    "df_all_buses['star_rating'] = pd.to_numeric(df_all_buses['star_rating'], errors='coerce')\n",
    "\n"
   ]
  },
  {
   "cell_type": "code",
   "execution_count": 65,
   "metadata": {},
   "outputs": [
    {
     "data": {
      "text/plain": [
       "bus_name               0\n",
       "bus_type               0\n",
       "departure_time         0\n",
       "duration               0\n",
       "reaching_time          0\n",
       "star_rating          385\n",
       "price                  0\n",
       "seat_availability      0\n",
       "route_name             0\n",
       "route_link             0\n",
       "dtype: int64"
      ]
     },
     "execution_count": 65,
     "metadata": {},
     "output_type": "execute_result"
    }
   ],
   "source": [
    "df_all_buses.isnull().sum()"
   ]
  },
  {
   "cell_type": "code",
   "execution_count": 66,
   "metadata": {},
   "outputs": [],
   "source": [
    "# replacing the 'nan' value to 'None'\n",
    "\n",
    "df_all_buses = df_all_buses.replace({np.nan: None})"
   ]
  },
  {
   "cell_type": "code",
   "execution_count": 67,
   "metadata": {},
   "outputs": [
    {
     "data": {
      "text/plain": [
       "bus_name               0\n",
       "bus_type               0\n",
       "departure_time         0\n",
       "duration               0\n",
       "reaching_time          0\n",
       "star_rating          385\n",
       "price                  0\n",
       "seat_availability      0\n",
       "route_name             0\n",
       "route_link             0\n",
       "dtype: int64"
      ]
     },
     "execution_count": 67,
     "metadata": {},
     "output_type": "execute_result"
    }
   ],
   "source": [
    "df_all_buses.isnull().sum()"
   ]
  },
  {
   "cell_type": "code",
   "execution_count": 68,
   "metadata": {},
   "outputs": [
    {
     "name": "stdout",
     "output_type": "stream",
     "text": [
      "<class 'pandas.core.frame.DataFrame'>\n",
      "RangeIndex: 17927 entries, 0 to 17926\n",
      "Data columns (total 10 columns):\n",
      " #   Column             Non-Null Count  Dtype  \n",
      "---  ------             --------------  -----  \n",
      " 0   bus_name           17927 non-null  object \n",
      " 1   bus_type           17927 non-null  object \n",
      " 2   departure_time     17927 non-null  object \n",
      " 3   duration           17927 non-null  object \n",
      " 4   reaching_time      17927 non-null  object \n",
      " 5   star_rating        17542 non-null  object \n",
      " 6   price              17927 non-null  float64\n",
      " 7   seat_availability  17927 non-null  object \n",
      " 8   route_name         17927 non-null  object \n",
      " 9   route_link         17927 non-null  object \n",
      "dtypes: float64(1), object(9)\n",
      "memory usage: 1.4+ MB\n"
     ]
    }
   ],
   "source": [
    "#After cleanimg checking information\n",
    "\n",
    "df_all_buses.info()"
   ]
  },
  {
   "cell_type": "code",
   "execution_count": 69,
   "metadata": {},
   "outputs": [],
   "source": [
    "#Converting into CSV File\n",
    "\n",
    "df_all_buses.to_csv(\"Final_buses.csv\", index=False)"
   ]
  },
  {
   "cell_type": "markdown",
   "metadata": {},
   "source": [
    "SQL CONNECTION"
   ]
  },
  {
   "cell_type": "code",
   "execution_count": 72,
   "metadata": {},
   "outputs": [],
   "source": [
    "#sql connection\n",
    "\n",
    "import mysql.connector\n",
    "\n",
    "conn = mysql.connector.connect(host=\"localhost\", user=\"root\", password= \"H@ridhoni7\")\n",
    "\n",
    "my_cursor = conn.cursor()\n",
    "\n",
    "my_cursor.execute(\"CREATE DATABASE IF NOT EXISTS RED_BUS\")\n",
    "\n",
    "# Select the database\n",
    "my_cursor.execute(\"USE RED_BUS\")"
   ]
  },
  {
   "cell_type": "code",
   "execution_count": 71,
   "metadata": {},
   "outputs": [],
   "source": [
    "my_cursor.execute(\"drop database RED_BUS\")"
   ]
  },
  {
   "cell_type": "code",
   "execution_count": 73,
   "metadata": {},
   "outputs": [
    {
     "name": "stdout",
     "output_type": "stream",
     "text": [
      "Table Created successfully\n"
     ]
    }
   ],
   "source": [
    "# Table Creation\n",
    "\n",
    "my_cursor.execute('''CREATE TABLE IF NOT EXISTS bus_details(\n",
    "                  ID INT AUTO_INCREMENT PRIMARY KEY,\n",
    "                  bus_name VARCHAR(255) NOT NULL,\n",
    "                  bus_type VARCHAR(255) NOT NULL,\n",
    "                  departure_time VARCHAR(255) NOT NULL,\n",
    "                  duration VARCHAR(255) NOT NULL,\n",
    "                  reaching_time VARCHAR(255) NOT NULL,\n",
    "                  star_rating Float NULL,\n",
    "                  price FLOAT NULL,\n",
    "                  seat_availablity VARCHAR(255) NOT NULL,\n",
    "                  route_name VARCHAR(700) NULL,\n",
    "                  route_link VARCHAR(700) NULL\n",
    "                  )''')\n",
    "\n",
    "print(\"Table Created successfully\")"
   ]
  },
  {
   "cell_type": "code",
   "execution_count": 74,
   "metadata": {},
   "outputs": [
    {
     "name": "stdout",
     "output_type": "stream",
     "text": [
      "Values inserted successfully\n"
     ]
    }
   ],
   "source": [
    "# SQL query to insert data into bus_details table\n",
    "\n",
    "insert_query = '''INSERT INTO bus_details(\n",
    "                  bus_name,\n",
    "                  bus_type ,\n",
    "                  departure_time,\n",
    "                  duration ,\n",
    "                  reaching_time,\n",
    "                  star_rating ,\n",
    "                  price ,\n",
    "                  seat_availablity ,\n",
    "                  route_name ,\n",
    "                  route_link \n",
    "                )\n",
    "                  VALUES(%s, %s, %s, %s, %s, %s, %s, %s, %s, %s)'''\n",
    "\n",
    "# Convert DataFrame to list of tuples\n",
    "data = df_all_buses.values.tolist()\n",
    "\n",
    "# Execute the SQL statement for multiple rows\n",
    "my_cursor.executemany(insert_query, data)\n",
    "\n",
    " # Commit the transaction\n",
    "conn.commit()\n",
    "\n",
    "print(\"Values inserted successfully\")"
   ]
  }
 ],
 "metadata": {
  "kernelspec": {
   "display_name": "Python 3",
   "language": "python",
   "name": "python3"
  },
  "language_info": {
   "codemirror_mode": {
    "name": "ipython",
    "version": 3
   },
   "file_extension": ".py",
   "mimetype": "text/x-python",
   "name": "python",
   "nbconvert_exporter": "python",
   "pygments_lexer": "ipython3",
   "version": "3.12.4"
  }
 },
 "nbformat": 4,
 "nbformat_minor": 2
}
